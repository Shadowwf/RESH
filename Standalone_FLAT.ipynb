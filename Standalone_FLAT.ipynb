{
 "cells": [
  {
   "cell_type": "markdown",
   "source": [
    "## 对比FLAT索引性能"
   ],
   "metadata": {
    "collapsed": false
   },
   "id": "cbc4cf0b7e331752"
  },
  {
   "cell_type": "code",
   "execution_count": 2,
   "outputs": [
    {
     "data": {
      "text/plain": "['wwf_mac_docker',\n 'RESH_100k_128',\n 'FLAT_100k_128',\n 'HNSW_100k_128',\n 'IVF_PQ_100k_128',\n 'default']"
     },
     "execution_count": 2,
     "metadata": {},
     "output_type": "execute_result"
    }
   ],
   "source": [
    "# 连接部署在Docker上的Standalone版本Milvus\n",
    "from pymilvus import connections, db\n",
    "\n",
    "conn = connections.connect(host=\"127.0.0.1\", port=19530)\n",
    "\n",
    "# 查看当前已有数据库\n",
    "db.list_database()"
   ],
   "metadata": {
    "collapsed": false,
    "ExecuteTime": {
     "end_time": "2024-11-06T03:15:32.884463200Z",
     "start_time": "2024-11-06T03:15:32.469605900Z"
    }
   },
   "id": "initial_id"
  },
  {
   "cell_type": "code",
   "execution_count": 2,
   "outputs": [
    {
     "name": "stderr",
     "output_type": "stream",
     "text": [
      "RPC error: [create_database], <MilvusException: (code=65535, message=database already exist: FLAT_100k_128)>, <Time:{'RPC start': '2024-11-05 21:03:30.569458', 'RPC error': '2024-11-05 21:03:30.571816'}>\n"
     ]
    },
    {
     "ename": "MilvusException",
     "evalue": "<MilvusException: (code=65535, message=database already exist: FLAT_100k_128)>",
     "output_type": "error",
     "traceback": [
      "\u001B[1;31m---------------------------------------------------------------------------\u001B[0m",
      "\u001B[1;31mMilvusException\u001B[0m                           Traceback (most recent call last)",
      "    \u001B[1;31m[... skipping hidden 1 frame]\u001B[0m\n",
      "Cell \u001B[1;32mIn[2], line 2\u001B[0m\n\u001B[0;32m      1\u001B[0m \u001B[38;5;66;03m# 创建测试RESH的数据库\u001B[39;00m\n\u001B[1;32m----> 2\u001B[0m database \u001B[38;5;241m=\u001B[39m \u001B[43mdb\u001B[49m\u001B[38;5;241;43m.\u001B[39;49m\u001B[43mcreate_database\u001B[49m\u001B[43m(\u001B[49m\u001B[38;5;124;43m\"\u001B[39;49m\u001B[38;5;124;43mFLAT_100k_128\u001B[39;49m\u001B[38;5;124;43m\"\u001B[39;49m\u001B[43m)\u001B[49m\n\u001B[0;32m      4\u001B[0m \u001B[38;5;66;03m# 列出所有数据库\u001B[39;00m\n",
      "File \u001B[1;32mD:\\anaconda3\\envs\\pytorch_gpu\\lib\\site-packages\\pymilvus\\orm\\db.py:30\u001B[0m, in \u001B[0;36mcreate_database\u001B[1;34m(db_name, using, timeout, **kwargs)\u001B[0m\n\u001B[0;32m     23\u001B[0m \u001B[38;5;250m\u001B[39m\u001B[38;5;124;03m\"\"\"Create a database using provided database name\u001B[39;00m\n\u001B[0;32m     24\u001B[0m \u001B[38;5;124;03mArgs:\u001B[39;00m\n\u001B[0;32m     25\u001B[0m \u001B[38;5;124;03m    db_name (``str``): Database name\u001B[39;00m\n\u001B[1;32m   (...)\u001B[0m\n\u001B[0;32m     28\u001B[0m \u001B[38;5;124;03m        support database resource groups with key `database.resource_groups`\u001B[39;00m\n\u001B[0;32m     29\u001B[0m \u001B[38;5;124;03m\"\"\"\u001B[39;00m\n\u001B[1;32m---> 30\u001B[0m _get_connection(using)\u001B[38;5;241m.\u001B[39mcreate_database(db_name, timeout\u001B[38;5;241m=\u001B[39mtimeout, \u001B[38;5;241m*\u001B[39m\u001B[38;5;241m*\u001B[39mkwargs)\n",
      "File \u001B[1;32mD:\\anaconda3\\envs\\pytorch_gpu\\lib\\site-packages\\pymilvus\\decorators.py:148\u001B[0m, in \u001B[0;36merror_handler.<locals>.wrapper.<locals>.handler\u001B[1;34m(*args, **kwargs)\u001B[0m\n\u001B[0;32m    147\u001B[0m     LOGGER\u001B[38;5;241m.\u001B[39merror(\u001B[38;5;124mf\u001B[39m\u001B[38;5;124m\"\u001B[39m\u001B[38;5;124mRPC error: [\u001B[39m\u001B[38;5;132;01m{\u001B[39;00minner_name\u001B[38;5;132;01m}\u001B[39;00m\u001B[38;5;124m], \u001B[39m\u001B[38;5;132;01m{\u001B[39;00me\u001B[38;5;132;01m}\u001B[39;00m\u001B[38;5;124m, <Time:\u001B[39m\u001B[38;5;132;01m{\u001B[39;00mrecord_dict\u001B[38;5;132;01m}\u001B[39;00m\u001B[38;5;124m>\u001B[39m\u001B[38;5;124m\"\u001B[39m)\n\u001B[1;32m--> 148\u001B[0m     \u001B[38;5;28;01mraise\u001B[39;00m e \u001B[38;5;28;01mfrom\u001B[39;00m \u001B[38;5;21;01me\u001B[39;00m\n\u001B[0;32m    149\u001B[0m \u001B[38;5;28;01mexcept\u001B[39;00m grpc\u001B[38;5;241m.\u001B[39mFutureTimeoutError \u001B[38;5;28;01mas\u001B[39;00m e:\n",
      "File \u001B[1;32mD:\\anaconda3\\envs\\pytorch_gpu\\lib\\site-packages\\pymilvus\\decorators.py:144\u001B[0m, in \u001B[0;36merror_handler.<locals>.wrapper.<locals>.handler\u001B[1;34m(*args, **kwargs)\u001B[0m\n\u001B[0;32m    143\u001B[0m     record_dict[\u001B[38;5;124m\"\u001B[39m\u001B[38;5;124mRPC start\u001B[39m\u001B[38;5;124m\"\u001B[39m] \u001B[38;5;241m=\u001B[39m \u001B[38;5;28mstr\u001B[39m(datetime\u001B[38;5;241m.\u001B[39mdatetime\u001B[38;5;241m.\u001B[39mnow())\n\u001B[1;32m--> 144\u001B[0m     \u001B[38;5;28;01mreturn\u001B[39;00m func(\u001B[38;5;241m*\u001B[39margs, \u001B[38;5;241m*\u001B[39m\u001B[38;5;241m*\u001B[39mkwargs)\n\u001B[0;32m    145\u001B[0m \u001B[38;5;28;01mexcept\u001B[39;00m MilvusException \u001B[38;5;28;01mas\u001B[39;00m e:\n",
      "File \u001B[1;32mD:\\anaconda3\\envs\\pytorch_gpu\\lib\\site-packages\\pymilvus\\decorators.py:183\u001B[0m, in \u001B[0;36mtracing_request.<locals>.wrapper.<locals>.handler\u001B[1;34m(self, *args, **kwargs)\u001B[0m\n\u001B[0;32m    182\u001B[0m     \u001B[38;5;28mself\u001B[39m\u001B[38;5;241m.\u001B[39mset_onetime_request_id(req_id)\n\u001B[1;32m--> 183\u001B[0m \u001B[38;5;28;01mreturn\u001B[39;00m func(\u001B[38;5;28mself\u001B[39m, \u001B[38;5;241m*\u001B[39margs, \u001B[38;5;241m*\u001B[39m\u001B[38;5;241m*\u001B[39mkwargs)\n",
      "File \u001B[1;32mD:\\anaconda3\\envs\\pytorch_gpu\\lib\\site-packages\\pymilvus\\decorators.py:123\u001B[0m, in \u001B[0;36mretry_on_rpc_failure.<locals>.wrapper.<locals>.handler\u001B[1;34m(*args, **kwargs)\u001B[0m\n\u001B[0;32m    122\u001B[0m     \u001B[38;5;28;01melse\u001B[39;00m:\n\u001B[1;32m--> 123\u001B[0m         \u001B[38;5;28;01mraise\u001B[39;00m e \u001B[38;5;28;01mfrom\u001B[39;00m \u001B[38;5;21;01me\u001B[39;00m\n\u001B[0;32m    124\u001B[0m \u001B[38;5;28;01mexcept\u001B[39;00m \u001B[38;5;167;01mException\u001B[39;00m \u001B[38;5;28;01mas\u001B[39;00m e:\n",
      "File \u001B[1;32mD:\\anaconda3\\envs\\pytorch_gpu\\lib\\site-packages\\pymilvus\\decorators.py:87\u001B[0m, in \u001B[0;36mretry_on_rpc_failure.<locals>.wrapper.<locals>.handler\u001B[1;34m(*args, **kwargs)\u001B[0m\n\u001B[0;32m     86\u001B[0m \u001B[38;5;28;01mtry\u001B[39;00m:\n\u001B[1;32m---> 87\u001B[0m     \u001B[38;5;28;01mreturn\u001B[39;00m func(\u001B[38;5;241m*\u001B[39margs, \u001B[38;5;241m*\u001B[39m\u001B[38;5;241m*\u001B[39mkwargs)\n\u001B[0;32m     88\u001B[0m \u001B[38;5;28;01mexcept\u001B[39;00m grpc\u001B[38;5;241m.\u001B[39mRpcError \u001B[38;5;28;01mas\u001B[39;00m e:\n\u001B[0;32m     89\u001B[0m     \u001B[38;5;66;03m# Do not retry on these codes\u001B[39;00m\n",
      "File \u001B[1;32mD:\\anaconda3\\envs\\pytorch_gpu\\lib\\site-packages\\pymilvus\\client\\grpc_handler.py:1312\u001B[0m, in \u001B[0;36mGrpcHandler.create_database\u001B[1;34m(self, db_name, timeout, **kwargs)\u001B[0m\n\u001B[0;32m   1311\u001B[0m status \u001B[38;5;241m=\u001B[39m \u001B[38;5;28mself\u001B[39m\u001B[38;5;241m.\u001B[39m_stub\u001B[38;5;241m.\u001B[39mCreateDatabase(request, timeout\u001B[38;5;241m=\u001B[39mtimeout)\n\u001B[1;32m-> 1312\u001B[0m \u001B[43mcheck_status\u001B[49m\u001B[43m(\u001B[49m\u001B[43mstatus\u001B[49m\u001B[43m)\u001B[49m\n",
      "File \u001B[1;32mD:\\anaconda3\\envs\\pytorch_gpu\\lib\\site-packages\\pymilvus\\client\\utils.py:63\u001B[0m, in \u001B[0;36mcheck_status\u001B[1;34m(status)\u001B[0m\n\u001B[0;32m     62\u001B[0m \u001B[38;5;28;01mif\u001B[39;00m status\u001B[38;5;241m.\u001B[39mcode \u001B[38;5;241m!=\u001B[39m \u001B[38;5;241m0\u001B[39m \u001B[38;5;129;01mor\u001B[39;00m status\u001B[38;5;241m.\u001B[39merror_code \u001B[38;5;241m!=\u001B[39m \u001B[38;5;241m0\u001B[39m:\n\u001B[1;32m---> 63\u001B[0m     \u001B[38;5;28;01mraise\u001B[39;00m MilvusException(status\u001B[38;5;241m.\u001B[39mcode, status\u001B[38;5;241m.\u001B[39mreason, status\u001B[38;5;241m.\u001B[39merror_code)\n",
      "\u001B[1;31mMilvusException\u001B[0m: <MilvusException: (code=65535, message=database already exist: FLAT_100k_128)>",
      "\nThe above exception was the direct cause of the following exception:\n",
      "\u001B[1;31mMilvusException\u001B[0m                           Traceback (most recent call last)",
      "    \u001B[1;31m[... skipping hidden 1 frame]\u001B[0m\n",
      "Cell \u001B[1;32mIn[2], line 2\u001B[0m\n\u001B[0;32m      1\u001B[0m \u001B[38;5;66;03m# 创建测试RESH的数据库\u001B[39;00m\n\u001B[1;32m----> 2\u001B[0m database \u001B[38;5;241m=\u001B[39m \u001B[43mdb\u001B[49m\u001B[38;5;241;43m.\u001B[39;49m\u001B[43mcreate_database\u001B[49m\u001B[43m(\u001B[49m\u001B[38;5;124;43m\"\u001B[39;49m\u001B[38;5;124;43mFLAT_100k_128\u001B[39;49m\u001B[38;5;124;43m\"\u001B[39;49m\u001B[43m)\u001B[49m\n\u001B[0;32m      4\u001B[0m \u001B[38;5;66;03m# 列出所有数据库\u001B[39;00m\n",
      "File \u001B[1;32mD:\\anaconda3\\envs\\pytorch_gpu\\lib\\site-packages\\pymilvus\\orm\\db.py:30\u001B[0m, in \u001B[0;36mcreate_database\u001B[1;34m(db_name, using, timeout, **kwargs)\u001B[0m\n\u001B[0;32m     23\u001B[0m \u001B[38;5;250m\u001B[39m\u001B[38;5;124;03m\"\"\"Create a database using provided database name\u001B[39;00m\n\u001B[0;32m     24\u001B[0m \u001B[38;5;124;03mArgs:\u001B[39;00m\n\u001B[0;32m     25\u001B[0m \u001B[38;5;124;03m    db_name (``str``): Database name\u001B[39;00m\n\u001B[1;32m   (...)\u001B[0m\n\u001B[0;32m     28\u001B[0m \u001B[38;5;124;03m        support database resource groups with key `database.resource_groups`\u001B[39;00m\n\u001B[0;32m     29\u001B[0m \u001B[38;5;124;03m\"\"\"\u001B[39;00m\n\u001B[1;32m---> 30\u001B[0m _get_connection(using)\u001B[38;5;241m.\u001B[39mcreate_database(db_name, timeout\u001B[38;5;241m=\u001B[39mtimeout, \u001B[38;5;241m*\u001B[39m\u001B[38;5;241m*\u001B[39mkwargs)\n",
      "File \u001B[1;32mD:\\anaconda3\\envs\\pytorch_gpu\\lib\\site-packages\\pymilvus\\decorators.py:148\u001B[0m, in \u001B[0;36merror_handler.<locals>.wrapper.<locals>.handler\u001B[1;34m(*args, **kwargs)\u001B[0m\n\u001B[0;32m    147\u001B[0m     LOGGER\u001B[38;5;241m.\u001B[39merror(\u001B[38;5;124mf\u001B[39m\u001B[38;5;124m\"\u001B[39m\u001B[38;5;124mRPC error: [\u001B[39m\u001B[38;5;132;01m{\u001B[39;00minner_name\u001B[38;5;132;01m}\u001B[39;00m\u001B[38;5;124m], \u001B[39m\u001B[38;5;132;01m{\u001B[39;00me\u001B[38;5;132;01m}\u001B[39;00m\u001B[38;5;124m, <Time:\u001B[39m\u001B[38;5;132;01m{\u001B[39;00mrecord_dict\u001B[38;5;132;01m}\u001B[39;00m\u001B[38;5;124m>\u001B[39m\u001B[38;5;124m\"\u001B[39m)\n\u001B[1;32m--> 148\u001B[0m     \u001B[38;5;28;01mraise\u001B[39;00m e \u001B[38;5;28;01mfrom\u001B[39;00m \u001B[38;5;21;01me\u001B[39;00m\n\u001B[0;32m    149\u001B[0m \u001B[38;5;28;01mexcept\u001B[39;00m grpc\u001B[38;5;241m.\u001B[39mFutureTimeoutError \u001B[38;5;28;01mas\u001B[39;00m e:\n",
      "File \u001B[1;32mD:\\anaconda3\\envs\\pytorch_gpu\\lib\\site-packages\\pymilvus\\decorators.py:144\u001B[0m, in \u001B[0;36merror_handler.<locals>.wrapper.<locals>.handler\u001B[1;34m(*args, **kwargs)\u001B[0m\n\u001B[0;32m    143\u001B[0m     record_dict[\u001B[38;5;124m\"\u001B[39m\u001B[38;5;124mRPC start\u001B[39m\u001B[38;5;124m\"\u001B[39m] \u001B[38;5;241m=\u001B[39m \u001B[38;5;28mstr\u001B[39m(datetime\u001B[38;5;241m.\u001B[39mdatetime\u001B[38;5;241m.\u001B[39mnow())\n\u001B[1;32m--> 144\u001B[0m     \u001B[38;5;28;01mreturn\u001B[39;00m func(\u001B[38;5;241m*\u001B[39margs, \u001B[38;5;241m*\u001B[39m\u001B[38;5;241m*\u001B[39mkwargs)\n\u001B[0;32m    145\u001B[0m \u001B[38;5;28;01mexcept\u001B[39;00m MilvusException \u001B[38;5;28;01mas\u001B[39;00m e:\n",
      "File \u001B[1;32mD:\\anaconda3\\envs\\pytorch_gpu\\lib\\site-packages\\pymilvus\\decorators.py:183\u001B[0m, in \u001B[0;36mtracing_request.<locals>.wrapper.<locals>.handler\u001B[1;34m(self, *args, **kwargs)\u001B[0m\n\u001B[0;32m    182\u001B[0m     \u001B[38;5;28mself\u001B[39m\u001B[38;5;241m.\u001B[39mset_onetime_request_id(req_id)\n\u001B[1;32m--> 183\u001B[0m \u001B[38;5;28;01mreturn\u001B[39;00m func(\u001B[38;5;28mself\u001B[39m, \u001B[38;5;241m*\u001B[39margs, \u001B[38;5;241m*\u001B[39m\u001B[38;5;241m*\u001B[39mkwargs)\n",
      "File \u001B[1;32mD:\\anaconda3\\envs\\pytorch_gpu\\lib\\site-packages\\pymilvus\\decorators.py:123\u001B[0m, in \u001B[0;36mretry_on_rpc_failure.<locals>.wrapper.<locals>.handler\u001B[1;34m(*args, **kwargs)\u001B[0m\n\u001B[0;32m    122\u001B[0m     \u001B[38;5;28;01melse\u001B[39;00m:\n\u001B[1;32m--> 123\u001B[0m         \u001B[38;5;28;01mraise\u001B[39;00m e \u001B[38;5;28;01mfrom\u001B[39;00m \u001B[38;5;21;01me\u001B[39;00m\n\u001B[0;32m    124\u001B[0m \u001B[38;5;28;01mexcept\u001B[39;00m \u001B[38;5;167;01mException\u001B[39;00m \u001B[38;5;28;01mas\u001B[39;00m e:\n",
      "File \u001B[1;32mD:\\anaconda3\\envs\\pytorch_gpu\\lib\\site-packages\\pymilvus\\decorators.py:87\u001B[0m, in \u001B[0;36mretry_on_rpc_failure.<locals>.wrapper.<locals>.handler\u001B[1;34m(*args, **kwargs)\u001B[0m\n\u001B[0;32m     86\u001B[0m \u001B[38;5;28;01mtry\u001B[39;00m:\n\u001B[1;32m---> 87\u001B[0m     \u001B[38;5;28;01mreturn\u001B[39;00m func(\u001B[38;5;241m*\u001B[39margs, \u001B[38;5;241m*\u001B[39m\u001B[38;5;241m*\u001B[39mkwargs)\n\u001B[0;32m     88\u001B[0m \u001B[38;5;28;01mexcept\u001B[39;00m grpc\u001B[38;5;241m.\u001B[39mRpcError \u001B[38;5;28;01mas\u001B[39;00m e:\n\u001B[0;32m     89\u001B[0m     \u001B[38;5;66;03m# Do not retry on these codes\u001B[39;00m\n",
      "File \u001B[1;32mD:\\anaconda3\\envs\\pytorch_gpu\\lib\\site-packages\\pymilvus\\client\\grpc_handler.py:1312\u001B[0m, in \u001B[0;36mGrpcHandler.create_database\u001B[1;34m(self, db_name, timeout, **kwargs)\u001B[0m\n\u001B[0;32m   1311\u001B[0m status \u001B[38;5;241m=\u001B[39m \u001B[38;5;28mself\u001B[39m\u001B[38;5;241m.\u001B[39m_stub\u001B[38;5;241m.\u001B[39mCreateDatabase(request, timeout\u001B[38;5;241m=\u001B[39mtimeout)\n\u001B[1;32m-> 1312\u001B[0m \u001B[43mcheck_status\u001B[49m\u001B[43m(\u001B[49m\u001B[43mstatus\u001B[49m\u001B[43m)\u001B[49m\n",
      "File \u001B[1;32mD:\\anaconda3\\envs\\pytorch_gpu\\lib\\site-packages\\pymilvus\\client\\utils.py:63\u001B[0m, in \u001B[0;36mcheck_status\u001B[1;34m(status)\u001B[0m\n\u001B[0;32m     62\u001B[0m \u001B[38;5;28;01mif\u001B[39;00m status\u001B[38;5;241m.\u001B[39mcode \u001B[38;5;241m!=\u001B[39m \u001B[38;5;241m0\u001B[39m \u001B[38;5;129;01mor\u001B[39;00m status\u001B[38;5;241m.\u001B[39merror_code \u001B[38;5;241m!=\u001B[39m \u001B[38;5;241m0\u001B[39m:\n\u001B[1;32m---> 63\u001B[0m     \u001B[38;5;28;01mraise\u001B[39;00m MilvusException(status\u001B[38;5;241m.\u001B[39mcode, status\u001B[38;5;241m.\u001B[39mreason, status\u001B[38;5;241m.\u001B[39merror_code)\n",
      "\u001B[1;31mMilvusException\u001B[0m: <MilvusException: (code=65535, message=database already exist: FLAT_100k_128)>",
      "\nThe above exception was the direct cause of the following exception:\n",
      "\u001B[1;31mMilvusException\u001B[0m                           Traceback (most recent call last)",
      "Cell \u001B[1;32mIn[2], line 2\u001B[0m\n\u001B[0;32m      1\u001B[0m \u001B[38;5;66;03m# 创建测试RESH的数据库\u001B[39;00m\n\u001B[1;32m----> 2\u001B[0m database \u001B[38;5;241m=\u001B[39m \u001B[43mdb\u001B[49m\u001B[38;5;241;43m.\u001B[39;49m\u001B[43mcreate_database\u001B[49m\u001B[43m(\u001B[49m\u001B[38;5;124;43m\"\u001B[39;49m\u001B[38;5;124;43mFLAT_100k_128\u001B[39;49m\u001B[38;5;124;43m\"\u001B[39;49m\u001B[43m)\u001B[49m\n\u001B[0;32m      4\u001B[0m \u001B[38;5;66;03m# 列出所有数据库\u001B[39;00m\n\u001B[0;32m      5\u001B[0m db\u001B[38;5;241m.\u001B[39mlist_database()\n",
      "File \u001B[1;32mD:\\anaconda3\\envs\\pytorch_gpu\\lib\\site-packages\\pymilvus\\orm\\db.py:30\u001B[0m, in \u001B[0;36mcreate_database\u001B[1;34m(db_name, using, timeout, **kwargs)\u001B[0m\n\u001B[0;32m     20\u001B[0m \u001B[38;5;28;01mdef\u001B[39;00m \u001B[38;5;21mcreate_database\u001B[39m(\n\u001B[0;32m     21\u001B[0m     db_name: \u001B[38;5;28mstr\u001B[39m, using: \u001B[38;5;28mstr\u001B[39m \u001B[38;5;241m=\u001B[39m \u001B[38;5;124m\"\u001B[39m\u001B[38;5;124mdefault\u001B[39m\u001B[38;5;124m\"\u001B[39m, timeout: Optional[\u001B[38;5;28mfloat\u001B[39m] \u001B[38;5;241m=\u001B[39m \u001B[38;5;28;01mNone\u001B[39;00m, \u001B[38;5;241m*\u001B[39m\u001B[38;5;241m*\u001B[39mkwargs\n\u001B[0;32m     22\u001B[0m ):\n\u001B[0;32m     23\u001B[0m \u001B[38;5;250m    \u001B[39m\u001B[38;5;124;03m\"\"\"Create a database using provided database name\u001B[39;00m\n\u001B[0;32m     24\u001B[0m \u001B[38;5;124;03m    Args:\u001B[39;00m\n\u001B[0;32m     25\u001B[0m \u001B[38;5;124;03m        db_name (``str``): Database name\u001B[39;00m\n\u001B[1;32m   (...)\u001B[0m\n\u001B[0;32m     28\u001B[0m \u001B[38;5;124;03m            support database resource groups with key `database.resource_groups`\u001B[39;00m\n\u001B[0;32m     29\u001B[0m \u001B[38;5;124;03m    \"\"\"\u001B[39;00m\n\u001B[1;32m---> 30\u001B[0m     _get_connection(using)\u001B[38;5;241m.\u001B[39mcreate_database(db_name, timeout\u001B[38;5;241m=\u001B[39mtimeout, \u001B[38;5;241m*\u001B[39m\u001B[38;5;241m*\u001B[39mkwargs)\n",
      "File \u001B[1;32mD:\\anaconda3\\envs\\pytorch_gpu\\lib\\site-packages\\pymilvus\\decorators.py:148\u001B[0m, in \u001B[0;36merror_handler.<locals>.wrapper.<locals>.handler\u001B[1;34m(*args, **kwargs)\u001B[0m\n\u001B[0;32m    146\u001B[0m     record_dict[\u001B[38;5;124m\"\u001B[39m\u001B[38;5;124mRPC error\u001B[39m\u001B[38;5;124m\"\u001B[39m] \u001B[38;5;241m=\u001B[39m \u001B[38;5;28mstr\u001B[39m(datetime\u001B[38;5;241m.\u001B[39mdatetime\u001B[38;5;241m.\u001B[39mnow())\n\u001B[0;32m    147\u001B[0m     LOGGER\u001B[38;5;241m.\u001B[39merror(\u001B[38;5;124mf\u001B[39m\u001B[38;5;124m\"\u001B[39m\u001B[38;5;124mRPC error: [\u001B[39m\u001B[38;5;132;01m{\u001B[39;00minner_name\u001B[38;5;132;01m}\u001B[39;00m\u001B[38;5;124m], \u001B[39m\u001B[38;5;132;01m{\u001B[39;00me\u001B[38;5;132;01m}\u001B[39;00m\u001B[38;5;124m, <Time:\u001B[39m\u001B[38;5;132;01m{\u001B[39;00mrecord_dict\u001B[38;5;132;01m}\u001B[39;00m\u001B[38;5;124m>\u001B[39m\u001B[38;5;124m\"\u001B[39m)\n\u001B[1;32m--> 148\u001B[0m     \u001B[38;5;28;01mraise\u001B[39;00m e \u001B[38;5;28;01mfrom\u001B[39;00m \u001B[38;5;21;01me\u001B[39;00m\n\u001B[0;32m    149\u001B[0m \u001B[38;5;28;01mexcept\u001B[39;00m grpc\u001B[38;5;241m.\u001B[39mFutureTimeoutError \u001B[38;5;28;01mas\u001B[39;00m e:\n\u001B[0;32m    150\u001B[0m     record_dict[\u001B[38;5;124m\"\u001B[39m\u001B[38;5;124mgRPC timeout\u001B[39m\u001B[38;5;124m\"\u001B[39m] \u001B[38;5;241m=\u001B[39m \u001B[38;5;28mstr\u001B[39m(datetime\u001B[38;5;241m.\u001B[39mdatetime\u001B[38;5;241m.\u001B[39mnow())\n",
      "File \u001B[1;32mD:\\anaconda3\\envs\\pytorch_gpu\\lib\\site-packages\\pymilvus\\decorators.py:144\u001B[0m, in \u001B[0;36merror_handler.<locals>.wrapper.<locals>.handler\u001B[1;34m(*args, **kwargs)\u001B[0m\n\u001B[0;32m    142\u001B[0m \u001B[38;5;28;01mtry\u001B[39;00m:\n\u001B[0;32m    143\u001B[0m     record_dict[\u001B[38;5;124m\"\u001B[39m\u001B[38;5;124mRPC start\u001B[39m\u001B[38;5;124m\"\u001B[39m] \u001B[38;5;241m=\u001B[39m \u001B[38;5;28mstr\u001B[39m(datetime\u001B[38;5;241m.\u001B[39mdatetime\u001B[38;5;241m.\u001B[39mnow())\n\u001B[1;32m--> 144\u001B[0m     \u001B[38;5;28;01mreturn\u001B[39;00m func(\u001B[38;5;241m*\u001B[39margs, \u001B[38;5;241m*\u001B[39m\u001B[38;5;241m*\u001B[39mkwargs)\n\u001B[0;32m    145\u001B[0m \u001B[38;5;28;01mexcept\u001B[39;00m MilvusException \u001B[38;5;28;01mas\u001B[39;00m e:\n\u001B[0;32m    146\u001B[0m     record_dict[\u001B[38;5;124m\"\u001B[39m\u001B[38;5;124mRPC error\u001B[39m\u001B[38;5;124m\"\u001B[39m] \u001B[38;5;241m=\u001B[39m \u001B[38;5;28mstr\u001B[39m(datetime\u001B[38;5;241m.\u001B[39mdatetime\u001B[38;5;241m.\u001B[39mnow())\n",
      "File \u001B[1;32mD:\\anaconda3\\envs\\pytorch_gpu\\lib\\site-packages\\pymilvus\\decorators.py:183\u001B[0m, in \u001B[0;36mtracing_request.<locals>.wrapper.<locals>.handler\u001B[1;34m(self, *args, **kwargs)\u001B[0m\n\u001B[0;32m    181\u001B[0m \u001B[38;5;28;01mif\u001B[39;00m req_id:\n\u001B[0;32m    182\u001B[0m     \u001B[38;5;28mself\u001B[39m\u001B[38;5;241m.\u001B[39mset_onetime_request_id(req_id)\n\u001B[1;32m--> 183\u001B[0m \u001B[38;5;28;01mreturn\u001B[39;00m func(\u001B[38;5;28mself\u001B[39m, \u001B[38;5;241m*\u001B[39margs, \u001B[38;5;241m*\u001B[39m\u001B[38;5;241m*\u001B[39mkwargs)\n",
      "File \u001B[1;32mD:\\anaconda3\\envs\\pytorch_gpu\\lib\\site-packages\\pymilvus\\decorators.py:123\u001B[0m, in \u001B[0;36mretry_on_rpc_failure.<locals>.wrapper.<locals>.handler\u001B[1;34m(*args, **kwargs)\u001B[0m\n\u001B[0;32m    121\u001B[0m         back_off \u001B[38;5;241m=\u001B[39m \u001B[38;5;28mmin\u001B[39m(back_off \u001B[38;5;241m*\u001B[39m back_off_multiplier, max_back_off)\n\u001B[0;32m    122\u001B[0m     \u001B[38;5;28;01melse\u001B[39;00m:\n\u001B[1;32m--> 123\u001B[0m         \u001B[38;5;28;01mraise\u001B[39;00m e \u001B[38;5;28;01mfrom\u001B[39;00m \u001B[38;5;21;01me\u001B[39;00m\n\u001B[0;32m    124\u001B[0m \u001B[38;5;28;01mexcept\u001B[39;00m \u001B[38;5;167;01mException\u001B[39;00m \u001B[38;5;28;01mas\u001B[39;00m e:\n\u001B[0;32m    125\u001B[0m     \u001B[38;5;28;01mraise\u001B[39;00m e \u001B[38;5;28;01mfrom\u001B[39;00m \u001B[38;5;21;01me\u001B[39;00m\n",
      "File \u001B[1;32mD:\\anaconda3\\envs\\pytorch_gpu\\lib\\site-packages\\pymilvus\\decorators.py:87\u001B[0m, in \u001B[0;36mretry_on_rpc_failure.<locals>.wrapper.<locals>.handler\u001B[1;34m(*args, **kwargs)\u001B[0m\n\u001B[0;32m     85\u001B[0m \u001B[38;5;28;01mwhile\u001B[39;00m \u001B[38;5;28;01mTrue\u001B[39;00m:\n\u001B[0;32m     86\u001B[0m     \u001B[38;5;28;01mtry\u001B[39;00m:\n\u001B[1;32m---> 87\u001B[0m         \u001B[38;5;28;01mreturn\u001B[39;00m func(\u001B[38;5;241m*\u001B[39margs, \u001B[38;5;241m*\u001B[39m\u001B[38;5;241m*\u001B[39mkwargs)\n\u001B[0;32m     88\u001B[0m     \u001B[38;5;28;01mexcept\u001B[39;00m grpc\u001B[38;5;241m.\u001B[39mRpcError \u001B[38;5;28;01mas\u001B[39;00m e:\n\u001B[0;32m     89\u001B[0m         \u001B[38;5;66;03m# Do not retry on these codes\u001B[39;00m\n\u001B[0;32m     90\u001B[0m         \u001B[38;5;28;01mif\u001B[39;00m e\u001B[38;5;241m.\u001B[39mcode() \u001B[38;5;129;01min\u001B[39;00m IGNORE_RETRY_CODES:\n",
      "File \u001B[1;32mD:\\anaconda3\\envs\\pytorch_gpu\\lib\\site-packages\\pymilvus\\client\\grpc_handler.py:1312\u001B[0m, in \u001B[0;36mGrpcHandler.create_database\u001B[1;34m(self, db_name, timeout, **kwargs)\u001B[0m\n\u001B[0;32m   1310\u001B[0m request \u001B[38;5;241m=\u001B[39m Prepare\u001B[38;5;241m.\u001B[39mcreate_database_req(db_name, \u001B[38;5;241m*\u001B[39m\u001B[38;5;241m*\u001B[39mkwargs)\n\u001B[0;32m   1311\u001B[0m status \u001B[38;5;241m=\u001B[39m \u001B[38;5;28mself\u001B[39m\u001B[38;5;241m.\u001B[39m_stub\u001B[38;5;241m.\u001B[39mCreateDatabase(request, timeout\u001B[38;5;241m=\u001B[39mtimeout)\n\u001B[1;32m-> 1312\u001B[0m \u001B[43mcheck_status\u001B[49m\u001B[43m(\u001B[49m\u001B[43mstatus\u001B[49m\u001B[43m)\u001B[49m\n",
      "File \u001B[1;32mD:\\anaconda3\\envs\\pytorch_gpu\\lib\\site-packages\\pymilvus\\client\\utils.py:63\u001B[0m, in \u001B[0;36mcheck_status\u001B[1;34m(status)\u001B[0m\n\u001B[0;32m     61\u001B[0m \u001B[38;5;28;01mdef\u001B[39;00m \u001B[38;5;21mcheck_status\u001B[39m(status: Status):\n\u001B[0;32m     62\u001B[0m     \u001B[38;5;28;01mif\u001B[39;00m status\u001B[38;5;241m.\u001B[39mcode \u001B[38;5;241m!=\u001B[39m \u001B[38;5;241m0\u001B[39m \u001B[38;5;129;01mor\u001B[39;00m status\u001B[38;5;241m.\u001B[39merror_code \u001B[38;5;241m!=\u001B[39m \u001B[38;5;241m0\u001B[39m:\n\u001B[1;32m---> 63\u001B[0m         \u001B[38;5;28;01mraise\u001B[39;00m MilvusException(status\u001B[38;5;241m.\u001B[39mcode, status\u001B[38;5;241m.\u001B[39mreason, status\u001B[38;5;241m.\u001B[39merror_code)\n",
      "\u001B[1;31mMilvusException\u001B[0m: <MilvusException: (code=65535, message=database already exist: FLAT_100k_128)>"
     ]
    }
   ],
   "source": [
    "# 创建测试RESH的数据库\n",
    "database = db.create_database(\"FLAT_100k_128\")\n",
    "\n",
    "# 列出所有数据库\n",
    "db.list_database()"
   ],
   "metadata": {
    "collapsed": false,
    "ExecuteTime": {
     "end_time": "2024-11-05T13:03:31.344780400Z",
     "start_time": "2024-11-05T13:03:30.569831400Z"
    }
   },
   "id": "3f1988cbb5b40c22"
  },
  {
   "cell_type": "code",
   "execution_count": 3,
   "outputs": [],
   "source": [
    "# 创建Collection\n",
    "from pymilvus import MilvusClient, DataType\n",
    "\n",
    "client = MilvusClient(\n",
    "    uri=\"http://localhost:19530\"\n",
    ")\n",
    "\n",
    "# client.create_collection(\n",
    "#     collection_name=\"FLAT_100k_128_collection\",\n",
    "#     dimension=128,\n",
    "#     index_params=\"FLAT\",\n",
    "#     # index_params=\"IVF_FLAT\",\n",
    "#     # index_params=\"IVF_SQ8\",\n",
    "#     # index_params=\"IVF_PQ\",\n",
    "#     # index_params=\"HNSW\",\n",
    "#     \n",
    "#     metric_type=\"L2\"\n",
    "#     # metric_type=\"IP\"\n",
    "#     # metric_type=\"COSINE\"\n",
    "# )\n",
    "# \n",
    "# res = client.get_load_state(\n",
    "#     collection_name=\"FLAT_100k_128_collection\"\n",
    "# )\n",
    "# \n",
    "# print(res)"
   ],
   "metadata": {
    "collapsed": false,
    "ExecuteTime": {
     "end_time": "2024-11-06T03:15:36.694109Z",
     "start_time": "2024-11-06T03:15:36.639013200Z"
    }
   },
   "id": "217d6644d899142c"
  },
  {
   "cell_type": "code",
   "execution_count": 4,
   "outputs": [
    {
     "name": "stdout",
     "output_type": "stream",
     "text": [
      "Features shape: (100000, 128)\n"
     ]
    }
   ],
   "source": [
    "import numpy as np\n",
    "\n",
    "# 加载向量数据\n",
    "ResNet50_features = np.load('D:\\\\Python_Project\\\\Learned_Index\\\\Milvus\\\\RESH\\\\Original_data\\\\128_100k_ResNet50_vector.npy')\n",
    "\n",
    "# 打印每个特征向量的形状\n",
    "print(\"Features shape:\", ResNet50_features.shape)\n",
    "\n",
    "# 为每个特征生成唯一的 ID 列表\n",
    "ResNet50_features_ids = list(range(len(ResNet50_features)))\n",
    "\n",
    "# # 随机选择 n 个向量\n",
    "# n = 1  # 你可以修改 n 的值\n",
    "# random_indices = np.random.choice(len(ResNet50_features), size=n, replace=False)\n",
    "# random_vectors = ResNet50_features[random_indices]\n",
    "# \n",
    "# # 将随机选出的向量转为 [[ ]] 的形式\n",
    "# random_vectors_list = random_vectors.tolist()\n",
    "# \n",
    "# # 打印随机选出的向量\n",
    "# print(f\"Randomly selected {n} vectors in [[ ]] format:\", random_vectors_list)"
   ],
   "metadata": {
    "collapsed": false,
    "ExecuteTime": {
     "end_time": "2024-11-06T03:15:39.701028200Z",
     "start_time": "2024-11-06T03:15:39.679027800Z"
    }
   },
   "id": "b53260fb287fac39"
  },
  {
   "cell_type": "code",
   "execution_count": 6,
   "outputs": [
    {
     "name": "stdout",
     "output_type": "stream",
     "text": [
      "Inserting into FLAT_100k_128_collection completed with result: 3\n"
     ]
    }
   ],
   "source": [
    "# 通用的插入函数，用于将高维向量插入到Collection\n",
    "def insert_to_milvus(collection_name, features, ids):\n",
    "    # features 是一个 NumPy 数组，直接使用\n",
    "    # 构建 Milvus 所需的插入数据结构\n",
    "    data = [{\"id\": ids[i], \"vector\": features[i].tolist()} for i in range(len(features))]\n",
    "\n",
    "    # 插入数据到集合中 (假设 client 是正确连接的 Milvus 客户端实例)\n",
    "    res = client.insert(collection_name=collection_name, data=data)\n",
    "\n",
    "    # 打印插入结果\n",
    "    print(f\"Inserting into {collection_name} completed with result: {len(res)}\")\n",
    "\n",
    "# 插入特征到 _collection\n",
    "insert_to_milvus(\"FLAT_100k_128_collection\", ResNet50_features, ResNet50_features_ids)"
   ],
   "metadata": {
    "collapsed": false,
    "ExecuteTime": {
     "end_time": "2024-11-05T12:47:19.378780500Z",
     "start_time": "2024-11-05T12:47:15.317211Z"
    }
   },
   "id": "e60d7569788136a2"
  },
  {
   "cell_type": "code",
   "execution_count": 5,
   "outputs": [
    {
     "name": "stdout",
     "output_type": "stream",
     "text": [
      "Sample Features Shape: (100, 128)\n"
     ]
    }
   ],
   "source": [
    "import numpy as np\n",
    "\n",
    "# 加载查询负载--完全随机负载100\n",
    "Sample_features = np.load('D:\\Python_Project\\Learned_Index\\Milvus\\RESH\\Query\\Completely_random\\sampled_100_vectors.npy')\n",
    "\n",
    "# 打印每个特征向量的形状\n",
    "print(\"Sample Features Shape:\", Sample_features.shape)\n",
    "\n",
    "# 为每个特征生成唯一的 ID 列表\n",
    "Sample_features_ids = list(range(len(Sample_features)))\n",
    "\n",
    "# 随机选择 n 个向量\n",
    "# n = 100  # 你可以修改 n 的值\n",
    "# random_indices = np.random.choice(len(Sample_features), size=n, replace=False)\n",
    "# random_vectors = Sample_features[random_indices]\n",
    "\n",
    "# 将随机选出的向量转为 [[ ]] 的形式\n",
    "Sample_features_list = Sample_features.tolist()\n",
    "# Sample_features_list = random_vectors.tolist()\n",
    "# Sample_features_ids = list(range(len(Sample_features_list)))\n",
    "\n",
    "# 打印随机选出的向量\n",
    "# print(f\"Randomly selected {n} vectors in [[ ]] format:\", random_vectors_list)"
   ],
   "metadata": {
    "collapsed": false,
    "ExecuteTime": {
     "end_time": "2024-11-06T03:15:47.999942100Z",
     "start_time": "2024-11-06T03:15:47.986945800Z"
    }
   },
   "id": "1abefbdbb87f3c16"
  },
  {
   "cell_type": "code",
   "execution_count": 6,
   "outputs": [
    {
     "name": "stdout",
     "output_type": "stream",
     "text": [
      "[[94854, 2975, 37855, 34868, 5910, 69651, 56576, 47248, 7882, 94187], [75452, 66168, 49161, 85738, 88048, 56889, 78427, 93119, 39587, 59377], [85447, 34360, 36541, 44071, 53027, 67205, 62504, 94142, 44104, 95299], [19386, 26547, 12441, 81460, 20174, 48677, 5331, 17765, 80859, 60028], [43843, 46271, 33786, 87007, 50078, 46405, 59393, 53349, 61119, 36619], [45944, 91499, 35287, 80838, 94079, 40019, 33895, 88755, 62869, 50777], [18322, 12876, 1686, 11767, 6212, 31180, 72143, 41185, 15788, 65672], [65115, 80289, 52874, 81793, 25729, 38785, 20618, 70925, 42574, 17379], [74942, 85531, 79203, 96527, 52519, 88567, 91942, 33910, 36190, 79975], [12397, 9459, 86463, 59279, 32823, 37112, 72891, 23885, 74857, 12959], [67761, 65158, 95706, 99282, 78585, 46475, 73321, 52476, 81501, 74552], [38359, 71193, 39847, 97464, 80744, 74079, 68863, 72601, 77243, 74310], [6122, 13505, 3116, 15818, 8264, 6993, 16555, 24806, 17493, 17400], [79422, 72936, 8893, 75597, 32743, 79181, 84111, 50248, 87835, 61391], [29334, 13738, 2820, 6187, 24894, 13645, 35646, 2076, 8802, 30678], [68737, 93209, 98859, 80730, 82642, 55163, 91230, 54042, 38033, 93161], [2548, 10193, 25414, 8327, 18180, 67008, 34709, 2855, 88912, 563], [13159, 20036, 10301, 33217, 18210, 30039, 29786, 11846, 17251, 18172], [25457, 85250, 71700, 92248, 76785, 67367, 45211, 57172, 25289, 74911], [69978, 76023, 88609, 44205, 50259, 39881, 80303, 77678, 6988, 83682], [7501, 12269, 25637, 23795, 20006, 9199, 84496, 3384, 70552, 20622], [14789, 31178, 23014, 9597, 20352, 27981, 32892, 20239, 22259, 15842], [2714, 99563, 32697, 86965, 91961, 34705, 55700, 98018, 93496, 98846], [10410, 6071, 3331, 11245, 13915, 33037, 2728, 18790, 57882, 1468], [9417, 26200, 76094, 19680, 20988, 34759, 13882, 19986, 9761, 42931], [52988, 95885, 15731, 93731, 14317, 92810, 48677, 16691, 92433, 59379], [22566, 12207, 28947, 32828, 1774, 14742, 20231, 30999, 17575, 22987], [28863, 67837, 96197, 32921, 76732, 27799, 17377, 18072, 1552, 19431], [32137, 15465, 6520, 31780, 32373, 7752, 30570, 29838, 15916, 30658], [82086, 54770, 37701, 47193, 44077, 89349, 34344, 58646, 60758, 90458], [50906, 63035, 64826, 66254, 76202, 85087, 62898, 94744, 58149, 74395], [70620, 74296, 51063, 90401, 83460, 65989, 41694, 95885, 65016, 60054], [47403, 43358, 66756, 55086, 69752, 34658, 71788, 56974, 74338, 64796], [6233, 9025, 17602, 12, 13838, 9870, 21891, 8406, 9104, 23244], [80819, 83194, 77675, 26464, 76310, 73329, 75744, 79887, 92282, 38328], [64792, 64618, 81529, 81087, 11818, 40415, 41685, 52756, 87502, 11206], [53941, 70739, 48405, 71553, 67050, 56902, 18694, 35054, 75469, 84822], [70143, 61212, 58760, 96350, 58612, 86980, 71377, 96104, 45526, 96743], [71246, 88411, 54616, 98089, 62539, 48059, 39019, 78508, 95028, 52064], [60413, 86406, 94613, 40787, 60508, 74666, 67431, 37391, 43891, 34602], [56529, 89040, 54770, 38475, 87803, 80401, 89349, 38867, 92786, 48085], [26695, 10054, 8399, 3970, 23957, 9694, 6740, 80322, 20547, 15736], [16574, 39359, 72621, 39432, 35391, 92188, 65739, 90959, 19441, 77649], [55116, 93730, 75011, 77944, 52433, 38313, 42035, 81638, 39780, 98453], [21653, 2959, 23503, 39008, 16761, 77427, 25692, 28036, 27328, 78278], [42600, 53782, 74549, 41646, 74427, 6064, 58436, 53036, 81831, 91745], [6520, 2878, 1831, 83, 31780, 15465, 3003, 27629, 7265, 4144], [76160, 90844, 94962, 82394, 49422, 42345, 42606, 66907, 30935, 92075], [26417, 38053, 2979, 2888, 85496, 22918, 29690, 7915, 94063, 64755], [55488, 96823, 88255, 72768, 56601, 76027, 94613, 90100, 60753, 98092], [81358, 59232, 77111, 70662, 44160, 37120, 44856, 85617, 97385, 97112], [67041, 86991, 60105, 86488, 77429, 87810, 96914, 35663, 56647, 76150], [80003, 80626, 23967, 76102, 81797, 8177, 99379, 43000, 25799, 80339], [67832, 90966, 81245, 53909, 57174, 49593, 88603, 85552, 63039, 73528], [75164, 95731, 92558, 61493, 35453, 58252, 73656, 77465, 39635, 98754], [28580, 14477, 513, 28, 14362, 4616, 32036, 7962, 4875, 18952], [25464, 56716, 14271, 667, 6652, 39046, 20429, 2637, 2664, 770], [43333, 29115, 35391, 23741, 36798, 87706, 45572, 89897, 46821, 34164], [77988, 35422, 75054, 95002, 53465, 60648, 85799, 62439, 84966, 89736], [11037, 30062, 23342, 65306, 68262, 12758, 32122, 8688, 34709, 19884], [75667, 21251, 20682, 84108, 98111, 76481, 91848, 19680, 36757, 59101], [96570, 68671, 60185, 75531, 62040, 92613, 84496, 91118, 88816, 38442], [20069, 10544, 26881, 4295, 29189, 27091, 12511, 7844, 7509, 1637], [86172, 76812, 35479, 88296, 81446, 74316, 50041, 39982, 60860, 70221], [24915, 28654, 18738, 71436, 18873, 56630, 44443, 67076, 90132, 68821], [27094, 19823, 9670, 10847, 18331, 21830, 13477, 10621, 32113, 18148], [68894, 97393, 39319, 84997, 93850, 98059, 49422, 63972, 77072, 61554], [91983, 72725, 78796, 88634, 39256, 59142, 84108, 20021, 11664, 34490], [13921, 58168, 94524, 75994, 88476, 61643, 86799, 55619, 76917, 94948], [69646, 82714, 92315, 73824, 82292, 65332, 89013, 93144, 93416, 59917], [33031, 448, 3510, 9453, 50818, 17419, 22141, 29485, 29803, 8002], [52104, 64172, 34962, 66834, 55459, 61762, 62527, 58436, 66983, 36121], [22779, 17154, 22849, 10611, 9981, 26767, 25727, 19827, 24351, 11737], [20190, 23483, 2670, 14164, 22502, 22113, 20394, 15493, 20382, 9638], [32097, 19577, 4646, 26252, 17169, 13915, 31858, 29720, 3331, 32989], [79632, 37460, 37201, 81650, 52460, 59537, 65510, 68231, 70815, 34698], [70642, 64239, 91010, 73557, 89107, 44590, 60645, 99538, 89274, 94059], [75008, 5411, 89827, 91389, 93748, 22402, 96262, 15190, 65771, 87416], [56728, 43564, 65092, 41670, 99020, 94311, 72419, 78861, 86253, 64463], [97796, 25800, 71285, 59467, 57801, 80004, 78383, 72135, 94799, 83889], [13567, 66225, 32952, 32722, 18259, 13950, 91423, 62130, 550, 65717], [53088, 47908, 86631, 85774, 83547, 92631, 88380, 63428, 80393, 38746], [12124, 11592, 21894, 23626, 20474, 2802, 14592, 32631, 15266, 32754], [91363, 53214, 89221, 45145, 45487, 92738, 78736, 47042, 97145, 88695], [28493, 26688, 5334, 29645, 22917, 89241, 27618, 20160, 17476, 5195], [94078, 92023, 79195, 90900, 96657, 50517, 99110, 46548, 62243, 64633], [8670, 16994, 23933, 23421, 29594, 28427, 15876, 9645, 22539, 16067], [66630, 59537, 39509, 3637, 96323, 47964, 86186, 72869, 57392, 78386], [65815, 72023, 85914, 75224, 42343, 51057, 34907, 96947, 51574, 54689], [91000, 39135, 83033, 58784, 73164, 38236, 47555, 84066, 47294, 82053], [59052, 80677, 62007, 81034, 79295, 65356, 43100, 42835, 36748, 38523], [3158, 81833, 47999, 28865, 76846, 83773, 84835, 68992, 64235, 71491], [48240, 75794, 46938, 69901, 47958, 79479, 37464, 72450, 94584, 34134], [57837, 75128, 80922, 63188, 75187, 77039, 1626, 38948, 78411, 5633], [42797, 46514, 94723, 71684, 96929, 42054, 74502, 73618, 61675, 88461], [97275, 49214, 87093, 79988, 41665, 60421, 36360, 90956, 73594, 45399], [96287, 36664, 88152, 95219, 34985, 47926, 83427, 56546, 83703, 54634], [54983, 85837, 55254, 30237, 2570, 80164, 50008, 60890, 1480, 33368], [26529, 7961, 12743, 5504, 3434, 606, 212, 1853, 5776, 3785], [28716, 23438, 15001, 1252, 4578, 19878, 22427, 24617, 26579, 28652]]\n",
      "IDs 已成功保存到 ids_list_right.npy 文件中！\n",
      "运行时间: 63.43 毫秒\n"
     ]
    }
   ],
   "source": [
    "# 批量向量搜索 10NN\n",
    "# import json\n",
    "# res = client.search(\n",
    "#     collection_name=\"FLAT_100k_128_collection\",\n",
    "#     data=Sample_features_list,\n",
    "#     limit=10,\n",
    "#     search_params={\"metric_type\": \"L2\",} \n",
    "# )\n",
    "# result = json.dumps(res, indent=4)\n",
    "# result = json.dumps(res)\n",
    "# print(result)\n",
    "import time\n",
    "import json\n",
    "import ast\n",
    "\n",
    "# 记录开始时间\n",
    "start_time = time.time()\n",
    "\n",
    "# 执行搜索操作\n",
    "res = client.search( \n",
    "    collection_name=\"FLAT_100k_128_collection\",\n",
    "    data=Sample_features_list,\n",
    "    limit=10,\n",
    "    search_params={\"metric_type\": \"L2\",}\n",
    ")\n",
    "\n",
    "# 记录结束时间\n",
    "end_time = time.time()\n",
    "\n",
    "# 将 res 转换为 JSON 字符串（使用缩进格式）\n",
    "result = json.dumps(res, indent=4)\n",
    "\n",
    "# 打印转换后的 JSON 字符串\n",
    "# print(f\"JSON 字符串：\\n{result}\")\n",
    "\n",
    "# 将 JSON 字符串解析回 Python 对象\n",
    "parsed_result = json.loads(result)\n",
    "\n",
    "# 提取所有 id，并保持每个查询结果的 id 在一个子列表中\n",
    "ids_list = []\n",
    "for result in parsed_result:\n",
    "    ids_list.append([item['id'] for item in result])  # 将每个查询结果的 id 作为一个子列表\n",
    "\n",
    "# 打印每个子列表，每个查询的 ids 在一行显示\n",
    "# for ids in ids_list:\n",
    "#     print(f\"查询结果的 IDs: {', '.join(map(str, ids))}\")\n",
    "\n",
    "print(ids_list)\n",
    "# 将 ids_list 保存为 .npy 文件\n",
    "np.save('D:\\\\Python_Project\\\\Learned_Index\\\\Milvus\\\\RESH\\\\Query\\\\Completely_random\\\\ids_list_right.npy', ids_list)\n",
    "\n",
    "print(\"IDs 已成功保存到 ids_list_right.npy 文件中！\")\n",
    "\n",
    "# 计算并打印运行时间（单位：毫秒）\n",
    "elapsed_time = (end_time - start_time) * 1000  # 转换为毫秒\n",
    "print(f\"运行时间: {elapsed_time:.2f} 毫秒\")"
   ],
   "metadata": {
    "collapsed": false,
    "ExecuteTime": {
     "end_time": "2024-11-06T03:15:54.897308100Z",
     "start_time": "2024-11-06T03:15:54.816632500Z"
    }
   },
   "id": "14d7dfe3f1a65f06"
  },
  {
   "cell_type": "code",
   "execution_count": 7,
   "outputs": [
    {
     "name": "stdout",
     "output_type": "stream",
     "text": [
      "HNSW 的平均召回率: 0.92\n",
      "IVF_PQ 的平均召回率: 0.90\n"
     ]
    }
   ],
   "source": [
    "# 计算召回率\n",
    "import numpy as np\n",
    "\n",
    "# 加载三个 .npy 文件\n",
    "ids_list_HNSW = np.load('D:\\\\Python_Project\\\\Learned_Index\\\\Milvus\\\\RESH\\\\Query\\\\Completely_random\\\\ids_list_HNSW.npy', allow_pickle=True)\n",
    "ids_list_IVF_PQ = np.load('D:\\\\Python_Project\\\\Learned_Index\\\\Milvus\\\\RESH\\Query\\\\Completely_random\\\\ids_list_IVF_PQ.npy', allow_pickle=True)\n",
    "ids_list_right = np.load('D:\\\\Python_Project\\\\Learned_Index\\\\Milvus\\\\RESH\\Query\\\\Completely_random\\\\ids_list_right.npy', allow_pickle=True)\n",
    "\n",
    "# 计算召回率函数\n",
    "def calculate_recall(predicted, ground_truth):\n",
    "    recalls = []\n",
    "    for pred, gt in zip(predicted, ground_truth):\n",
    "        correct_count = len(set(pred) & set(gt))  # 计算预测结果与标准答案的交集\n",
    "        recall = correct_count / len(gt)  # 召回率\n",
    "        recalls.append(recall)\n",
    "    return np.mean(recalls)  # 返回平均召回率\n",
    "\n",
    "# 计算两个算法的平均召回率\n",
    "recall_HNSW = calculate_recall(ids_list_HNSW, ids_list_right)\n",
    "recall_IVF_PQ = calculate_recall(ids_list_IVF_PQ, ids_list_right)\n",
    "\n",
    "# 输出召回率结果\n",
    "print(f\"HNSW 的平均召回率: {recall_HNSW:.2f}\")\n",
    "print(f\"IVF_PQ 的平均召回率: {recall_IVF_PQ:.2f}\")"
   ],
   "metadata": {
    "collapsed": false,
    "ExecuteTime": {
     "end_time": "2024-11-06T03:22:56.639111400Z",
     "start_time": "2024-11-06T03:22:56.625110500Z"
    }
   },
   "id": "6b57ce84af21a312"
  },
  {
   "cell_type": "code",
   "execution_count": null,
   "outputs": [],
   "source": [
    "# 计算Overall Ratio\n"
   ],
   "metadata": {
    "collapsed": false
   },
   "id": "df706c3fefcd717a"
  }
 ],
 "metadata": {
  "kernelspec": {
   "display_name": "Python 3",
   "language": "python",
   "name": "python3"
  },
  "language_info": {
   "codemirror_mode": {
    "name": "ipython",
    "version": 2
   },
   "file_extension": ".py",
   "mimetype": "text/x-python",
   "name": "python",
   "nbconvert_exporter": "python",
   "pygments_lexer": "ipython2",
   "version": "2.7.6"
  }
 },
 "nbformat": 4,
 "nbformat_minor": 5
}

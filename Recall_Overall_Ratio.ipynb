{
 "cells": [
  {
   "cell_type": "markdown",
   "source": [
    "## 以sklearn_neighbors提供的基于内存KNN为基准 \n",
    "## 计算Recall % Overall Ratio"
   ],
   "metadata": {
    "collapsed": false
   },
   "id": "a8d38eb1c8dd8a05"
  },
  {
   "cell_type": "code",
   "execution_count": 3,
   "outputs": [
    {
     "name": "stdout",
     "output_type": "stream",
     "text": [
      "总的距离之和: 1987.5226485496926\n",
      "总运行时间: 23.5772 毫秒\n",
      "精确 KNN 结果的索引和距离已成功保存！\n"
     ]
    }
   ],
   "source": [
    "\"\"\"\n",
    "使用sklearn_neighbors计算出查询负载的精确答案\n",
    "保存精确KNN的结果索引--->后续用于计算Recall\n",
    "保存精确KNN的求和距离--->后续用于计算Overall Ratio\n",
    "\"\"\"\n",
    "# 用sklearn.neighbors.NearestNeighbors进行精确KNN\n",
    "import numpy as np\n",
    "import time\n",
    "from sklearn.neighbors import NearestNeighbors\n",
    "\n",
    "# 设置参数\n",
    "K = 10  # 设置你想要的最近邻数\n",
    "\n",
    "# 加载总向量数据集和查询负载向量\n",
    "data_vectors = np.load('D:\\\\Python_Project\\\\Learned_Index\\\\Milvus\\\\RESH\\\\Original_data\\\\128_100k_ResNet50_vector.npy')\n",
    "query_vectors = np.load('D:\\\\Python_Project\\\\Learned_Index\\\\Milvus\\\\RESH\\\\Query\\\\Completely_random\\\\sampled_100_vectors.npy')\n",
    "\n",
    "# 初始化 NearestNeighbors 模型\n",
    "# 使用 brute-force 方法，以确保得到精确的最近邻结果\n",
    "neigh = NearestNeighbors(n_neighbors=K, algorithm='brute', metric='euclidean')\n",
    "neigh.fit(data_vectors)\n",
    "\n",
    "# 存储结果的列表\n",
    "knn_indices = []  # 存储每个查询的最近邻索引\n",
    "knn_distances = []  # 存储每个查询的最近邻距离\n",
    "\n",
    "# 记录开始时间\n",
    "start_time = time.time()\n",
    "\n",
    "# 对查询集进行精确 KNN 搜索\n",
    "distances, indices = neigh.kneighbors(query_vectors)\n",
    "\n",
    "# 记录结束时间\n",
    "end_time = time.time()\n",
    "\n",
    "# 将结果保存到列表中\n",
    "knn_indices = indices.tolist()  # 转换为 Python 列表格式\n",
    "knn_distances = distances.tolist()  # 转换为 Python 列表格式\n",
    "\n",
    "# 计算并打印总距离和\n",
    "total_distance_sum = np.sum(distances)\n",
    "print(\"总的距离之和:\", total_distance_sum)\n",
    "\n",
    "# 打印每个查询的运行时间（单位：毫秒）\n",
    "elapsed_time = (end_time - start_time) * 1000  # 转换为毫秒\n",
    "print(f\"总运行时间: {elapsed_time:.4f} 毫秒\")\n",
    "\n",
    "# 打印每一个查询的精确 KNN 结果索引\n",
    "# for i, (index_list, distance_list) in enumerate(zip(knn_indices, knn_distances)):\n",
    "#     print(f\"查询 {i+1} 的精确 KNN 结果索引:\", index_list)\n",
    "#     print(f\"查询 {i+1} 的精确 KNN 结果距离:\", distance_list)\n",
    "\n",
    "# 保存 KNN 结果的索引和距离到 .npy 文件\n",
    "np.save('D:\\\\Python_Project\\\\Learned_Index\\\\Milvus\\\\RESH\\\\Query\\\\Completely_random\\\\sklearn_knn_indices.npy', knn_indices)\n",
    "np.save('D:\\\\Python_Project\\\\Learned_Index\\\\Milvus\\\\RESH\\\\Query\\\\Completely_random\\\\sklearn_knn_distances.npy', knn_distances)\n",
    "\n",
    "print(\"精确 KNN 结果的索引和距离已成功保存！\")"
   ],
   "metadata": {
    "collapsed": false,
    "ExecuteTime": {
     "end_time": "2024-11-07T02:55:54.500432Z",
     "start_time": "2024-11-07T02:55:54.434857400Z"
    }
   },
   "id": "ff47580fa880983d"
  },
  {
   "cell_type": "code",
   "execution_count": 4,
   "outputs": [
    {
     "name": "stdout",
     "output_type": "stream",
     "text": [
      "HNSW 的总距离和: 11572.652153015744\n",
      "IVF_PQ 的总距离和: 11572.919057391236\n",
      "FLAT 的总距离和: 11575.592268089176\n",
      "RESH 的总距离和: 1987.5226444513855\n",
      "精确 KNN 的总距离和（基准）: 1987.5226444513855\n",
      "\n",
      "HNSW 的 Overall Ratio: 5.822651724408471\n",
      "IVF_PQ 的 Overall Ratio: 5.822786014388129\n",
      "FLAT 的 Overall Ratio: 5.82413101073592\n",
      "RESH 的 Overall Ratio: 1.0\n",
      "\n",
      "HNSW 的召回率: 0.995\n",
      "IVF_PQ 的召回率: 0.992\n",
      "FLAT 的召回率: 0.995\n",
      "RESH 的召回率: 1.0\n"
     ]
    }
   ],
   "source": [
    "import numpy as np\n",
    "import time\n",
    "from sklearn.neighbors import NearestNeighbors\n",
    "\n",
    "# 加载数据集和查询集\n",
    "data_vectors = np.load('D:\\\\Python_Project\\\\Learned_Index\\\\Milvus\\\\RESH\\\\Original_data\\\\128_100k_ResNet50_vector.npy')\n",
    "query_vectors = np.load('D:\\\\Python_Project\\\\Learned_Index\\\\Milvus\\\\RESH\\\\Query\\\\Completely_random\\\\sampled_100_vectors.npy')\n",
    "\n",
    "# 加载各个索引方法的结果索引\n",
    "ids_list_HNSW = np.load('D:\\\\Python_Project\\\\Learned_Index\\\\Milvus\\\\RESH\\\\Query\\\\Completely_random\\\\ids_list_HNSW.npy', allow_pickle=True)\n",
    "ids_list_IVF_PQ = np.load('D:\\\\Python_Project\\\\Learned_Index\\\\Milvus\\\\RESH\\\\Query\\\\Completely_random\\\\ids_list_IVF_PQ.npy', allow_pickle=True)\n",
    "ids_list_right = np.load('D:\\\\Python_Project\\\\Learned_Index\\\\Milvus\\\\RESH\\\\Query\\\\Completely_random\\\\ids_list_right.npy', allow_pickle=True)\n",
    "knn_indices = np.load('D:\\\\Python_Project\\\\Learned_Index\\\\Milvus\\\\RESH\\\\Query\\\\Completely_random\\\\sklearn_knn_indices.npy', allow_pickle=True)\n",
    "ids_list_RESH = np.load('D:\\\\Python_Project\\\\Learned_Index\\\\Milvus\\\\RESH\\\\Query\\\\Completely_random\\\\sklearn_knn_indices.npy', allow_pickle=True)\n",
    "\n",
    "# 使用 NearestNeighbors 计算每种索引方法的距离和\n",
    "def calculate_total_distance_sum(query_vectors, data_vectors, indices_list):\n",
    "    total_distance_sum = 0\n",
    "    for i, query in enumerate(query_vectors):\n",
    "        # 根据索引获取最近邻向量\n",
    "        nearest_vectors = data_vectors[indices_list[i]]\n",
    "        \n",
    "        # 使用 NearestNeighbors 来计算查询与近邻的精确距离\n",
    "        neigh = NearestNeighbors(n_neighbors=len(nearest_vectors), algorithm='brute', metric='euclidean')\n",
    "        neigh.fit(nearest_vectors)\n",
    "        \n",
    "        # 获取距离和\n",
    "        distances, _ = neigh.kneighbors([query])\n",
    "        total_distance_sum += np.sum(distances[0])\n",
    "    return total_distance_sum\n",
    "\n",
    "# 计算召回率\n",
    "def calculate_recall(predicted_indices, true_indices, K):\n",
    "    total_recall = 0\n",
    "    num_queries = len(predicted_indices)\n",
    "\n",
    "    for i in range(num_queries):\n",
    "        # 将基准 KNN 和待评估 KNN 的索引转换为集合\n",
    "        true_set = set(true_indices[i])  # 基准结果\n",
    "        predicted_set = set(predicted_indices[i])  # 待评估结果\n",
    "\n",
    "        # 计算找到的正确结果数量（交集的大小）\n",
    "        correct_results = len(true_set & predicted_set)\n",
    "\n",
    "        # 计算每个查询的召回率\n",
    "        recall = correct_results / K\n",
    "        total_recall += recall\n",
    "\n",
    "    # 计算平均召回率\n",
    "    average_recall = total_recall / num_queries\n",
    "    return average_recall\n",
    "\n",
    "# 计算精确 KNN 的总距离和（基准）\n",
    "total_distance_sum_exact = calculate_total_distance_sum(query_vectors, data_vectors, knn_indices)\n",
    "\n",
    "# 计算 HNSW、IVF_PQ、FLAT、RESH 的总距离和\n",
    "total_distance_sum_HNSW = calculate_total_distance_sum(query_vectors, data_vectors, ids_list_HNSW)\n",
    "total_distance_sum_IVF_PQ = calculate_total_distance_sum(query_vectors, data_vectors, ids_list_IVF_PQ)\n",
    "total_distance_sum_right = calculate_total_distance_sum(query_vectors, data_vectors, ids_list_right)\n",
    "total_distance_sum_RESH = calculate_total_distance_sum(query_vectors, data_vectors, ids_list_RESH)\n",
    "\n",
    "# 计算 Overall Ratio\n",
    "overall_ratio_HNSW = total_distance_sum_HNSW / total_distance_sum_exact\n",
    "overall_ratio_IVF_PQ = total_distance_sum_IVF_PQ / total_distance_sum_exact\n",
    "overall_ratio_right = total_distance_sum_right / total_distance_sum_exact\n",
    "overall_ratio_RESH = total_distance_sum_RESH / total_distance_sum_exact\n",
    "\n",
    "# 计算召回率\n",
    "recall_HNSW = calculate_recall(ids_list_HNSW, knn_indices, K)\n",
    "recall_IVF_PQ = calculate_recall(ids_list_IVF_PQ, knn_indices, K)\n",
    "recall_right = calculate_recall(ids_list_right, knn_indices, K)\n",
    "recall_RESH = calculate_recall(ids_list_RESH, knn_indices, K)\n",
    "\n",
    "# 打印结果\n",
    "print(\"HNSW 的总距离和:\", total_distance_sum_HNSW)\n",
    "print(\"IVF_PQ 的总距离和:\", total_distance_sum_IVF_PQ)\n",
    "print(\"FLAT 的总距离和:\", total_distance_sum_right)\n",
    "print(\"RESH 的总距离和:\", total_distance_sum_RESH)\n",
    "print(\"精确 KNN 的总距离和（基准）:\", total_distance_sum_exact)\n",
    "print()\n",
    "print(\"HNSW 的 Overall Ratio:\", overall_ratio_HNSW)\n",
    "print(\"IVF_PQ 的 Overall Ratio:\", overall_ratio_IVF_PQ)\n",
    "print(\"FLAT 的 Overall Ratio:\", overall_ratio_right)\n",
    "print(\"RESH 的 Overall Ratio:\", overall_ratio_RESH)\n",
    "print()\n",
    "print(\"HNSW 的召回率:\", recall_HNSW)\n",
    "print(\"IVF_PQ 的召回率:\", recall_IVF_PQ)\n",
    "print(\"FLAT 的召回率:\", recall_right)\n",
    "print(\"RESH 的召回率:\", recall_RESH)\n"
   ],
   "metadata": {
    "collapsed": false,
    "ExecuteTime": {
     "end_time": "2024-11-07T02:56:02.251595Z",
     "start_time": "2024-11-07T02:55:59.936901Z"
    }
   },
   "id": "e1aeb4d1cd9630d9"
  },
  {
   "cell_type": "code",
   "execution_count": null,
   "outputs": [],
   "source": [],
   "metadata": {
    "collapsed": false
   },
   "id": "3dde91bc35de5ad"
  }
 ],
 "metadata": {
  "kernelspec": {
   "display_name": "Python 3",
   "language": "python",
   "name": "python3"
  },
  "language_info": {
   "codemirror_mode": {
    "name": "ipython",
    "version": 2
   },
   "file_extension": ".py",
   "mimetype": "text/x-python",
   "name": "python",
   "nbconvert_exporter": "python",
   "pygments_lexer": "ipython2",
   "version": "2.7.6"
  }
 },
 "nbformat": 4,
 "nbformat_minor": 5
}
